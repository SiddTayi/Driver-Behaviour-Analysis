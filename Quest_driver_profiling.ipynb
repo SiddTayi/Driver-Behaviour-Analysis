{
 "cells": [
  {
   "cell_type": "code",
   "execution_count": 1,
   "id": "b465c11b",
   "metadata": {},
   "outputs": [],
   "source": [
    "import numpy as np\n",
    "import pandas as pd\n",
    "import seaborn as sns\n",
    "import matplotlib.pyplot as plt"
   ]
  },
  {
   "cell_type": "code",
   "execution_count": 2,
   "id": "679301e3",
   "metadata": {},
   "outputs": [],
   "source": [
    "import os\n",
    "\n",
    "main_folder = './3-month-V2X'\n",
    "\n",
    "summary_dfs_list = []\n",
    "host_dfs_list = []\n",
    "\n",
    "for folder_name in os.listdir(main_folder):\n",
    "    \n",
    "    folder_path = os.path.join(main_folder, folder_name)\n",
    "    \n",
    "    if os.path.isdir(folder_path):\n",
    "        \n",
    "        for file_name in os.listdir(folder_path):\n",
    "            \n",
    "            if file_name.endswith('.csv') and 'summary' in file_name:\n",
    "                \n",
    "                file_path = os.path.join(folder_path, file_name)\n",
    "                df = pd.read_csv(file_path)\n",
    "                summary_dfs_list.append(df)\n",
    "                \n",
    "            else:\n",
    "                  file_path = os.path.join(folder_path, file_name)\n",
    "                  df = pd.read_csv(file_path)\n",
    "                  host_dfs_list.append(df)\n"
   ]
  },
  {
   "cell_type": "code",
   "execution_count": 3,
   "id": "e61b1c9b",
   "metadata": {},
   "outputs": [
    {
     "data": {
      "text/plain": [
       "(6193, 43)"
      ]
     },
     "execution_count": 3,
     "metadata": {},
     "output_type": "execute_result"
    }
   ],
   "source": [
    "summary_dfs_list[0].shape"
   ]
  },
  {
   "cell_type": "code",
   "execution_count": 4,
   "id": "4641e365",
   "metadata": {},
   "outputs": [],
   "source": [
    "summary_df = pd.concat(summary_dfs_list)"
   ]
  },
  {
   "cell_type": "code",
   "execution_count": 5,
   "id": "90170ba6",
   "metadata": {},
   "outputs": [
    {
     "data": {
      "text/plain": [
       "(18680, 43)"
      ]
     },
     "execution_count": 5,
     "metadata": {},
     "output_type": "execute_result"
    }
   ],
   "source": [
    "summary_df.shape\n",
    "\n",
    "# we have data regarding 18k+ trips"
   ]
  },
  {
   "cell_type": "code",
   "execution_count": 6,
   "id": "4de3bdd6",
   "metadata": {},
   "outputs": [
    {
     "data": {
      "text/plain": [
       "(11014763, 44)"
      ]
     },
     "execution_count": 6,
     "metadata": {},
     "output_type": "execute_result"
    }
   ],
   "source": [
    "host_dfs_list[0].shape"
   ]
  },
  {
   "cell_type": "code",
   "execution_count": 7,
   "id": "2e2788a3",
   "metadata": {},
   "outputs": [],
   "source": [
    "host_df = pd.concat(host_dfs_list)"
   ]
  },
  {
   "cell_type": "code",
   "execution_count": 8,
   "id": "1a957bb9",
   "metadata": {},
   "outputs": [
    {
     "data": {
      "text/plain": [
       "(36652356, 44)"
      ]
     },
     "execution_count": 8,
     "metadata": {},
     "output_type": "execute_result"
    }
   ],
   "source": [
    "host_df.shape"
   ]
  },
  {
   "cell_type": "markdown",
   "id": "5387d408",
   "metadata": {},
   "source": [
    "# Summary dataset"
   ]
  },
  {
   "cell_type": "code",
   "execution_count": 9,
   "id": "12ee84c2",
   "metadata": {},
   "outputs": [
    {
     "data": {
      "text/html": [
       "<div>\n",
       "<style scoped>\n",
       "    .dataframe tbody tr th:only-of-type {\n",
       "        vertical-align: middle;\n",
       "    }\n",
       "\n",
       "    .dataframe tbody tr th {\n",
       "        vertical-align: top;\n",
       "    }\n",
       "\n",
       "    .dataframe thead th {\n",
       "        text-align: right;\n",
       "    }\n",
       "</style>\n",
       "<table border=\"1\" class=\"dataframe\">\n",
       "  <thead>\n",
       "    <tr style=\"text-align: right;\">\n",
       "      <th></th>\n",
       "      <th>uuid</th>\n",
       "      <th>segmentid</th>\n",
       "      <th>partitionDate</th>\n",
       "      <th>device</th>\n",
       "      <th>timestamp</th>\n",
       "      <th>filedate</th>\n",
       "      <th>filetimeutc</th>\n",
       "      <th>updateTimeMs</th>\n",
       "      <th>sequenceNo</th>\n",
       "      <th>vin</th>\n",
       "      <th>...</th>\n",
       "      <th>numSPATRx</th>\n",
       "      <th>numWarnings</th>\n",
       "      <th>numInforms</th>\n",
       "      <th>numGNSSOutages</th>\n",
       "      <th>numCANOutages</th>\n",
       "      <th>numIntersectionEncounters</th>\n",
       "      <th>timestamp_hr</th>\n",
       "      <th>updateTimeMs_hr</th>\n",
       "      <th>startlocaltime_hr</th>\n",
       "      <th>endlocaltime_hr</th>\n",
       "    </tr>\n",
       "  </thead>\n",
       "  <tbody>\n",
       "    <tr>\n",
       "      <th>0</th>\n",
       "      <td>1643674369728110428</td>\n",
       "      <td>82906c5c224aa516c6d93297cb2d5ea6</td>\n",
       "      <td>2022-02-01</td>\n",
       "      <td>10428</td>\n",
       "      <td>1643674369728</td>\n",
       "      <td>20220201</td>\n",
       "      <td>1249</td>\n",
       "      <td>1668804806655171</td>\n",
       "      <td>1</td>\n",
       "      <td>4342309e4ba71c9a7d478ed061abd025</td>\n",
       "      <td>...</td>\n",
       "      <td>0</td>\n",
       "      <td>0</td>\n",
       "      <td>0</td>\n",
       "      <td>0</td>\n",
       "      <td>0</td>\n",
       "      <td>0</td>\n",
       "      <td>2022-02-01 00:12:17.280</td>\n",
       "      <td>2022-11-18 20:53:26.655170898</td>\n",
       "      <td>2022-02-01 05:12:49.728</td>\n",
       "      <td>2022-02-01 05:13:10.930</td>\n",
       "    </tr>\n",
       "    <tr>\n",
       "      <th>1</th>\n",
       "      <td>1643674654963103053</td>\n",
       "      <td>e573dd2f4be814fd569c4072f6bd313b</td>\n",
       "      <td>2022-02-01</td>\n",
       "      <td>3053</td>\n",
       "      <td>1643674654963</td>\n",
       "      <td>20220201</td>\n",
       "      <td>1734</td>\n",
       "      <td>1668804326987669</td>\n",
       "      <td>1</td>\n",
       "      <td>177540c7bcb8db31697b601642eac8d4</td>\n",
       "      <td>...</td>\n",
       "      <td>0</td>\n",
       "      <td>0</td>\n",
       "      <td>0</td>\n",
       "      <td>0</td>\n",
       "      <td>50</td>\n",
       "      <td>0</td>\n",
       "      <td>2022-02-01 00:16:39.424</td>\n",
       "      <td>2022-11-18 20:45:26.987668945</td>\n",
       "      <td>2022-02-01 05:17:34.963</td>\n",
       "      <td>2022-02-01 05:24:18.763</td>\n",
       "    </tr>\n",
       "    <tr>\n",
       "      <th>2</th>\n",
       "      <td>1643674742010110411</td>\n",
       "      <td>34ee96170b98c727f54ac1506390cfaf</td>\n",
       "      <td>2022-02-01</td>\n",
       "      <td>10411</td>\n",
       "      <td>1643674742010</td>\n",
       "      <td>20220201</td>\n",
       "      <td>1902</td>\n",
       "      <td>1668804687925360</td>\n",
       "      <td>1</td>\n",
       "      <td>2d5b53f80151aea5fef0722f8b1edf99</td>\n",
       "      <td>...</td>\n",
       "      <td>0</td>\n",
       "      <td>0</td>\n",
       "      <td>0</td>\n",
       "      <td>0</td>\n",
       "      <td>0</td>\n",
       "      <td>0</td>\n",
       "      <td>2022-02-01 00:18:50.496</td>\n",
       "      <td>2022-11-18 20:51:27.925360107</td>\n",
       "      <td>2022-02-01 05:19:02.010</td>\n",
       "      <td>2022-02-01 05:30:43.439</td>\n",
       "    </tr>\n",
       "    <tr>\n",
       "      <th>3</th>\n",
       "      <td>1643675054902100146</td>\n",
       "      <td>ed65cba540ebcef63cbf825023c6a05d</td>\n",
       "      <td>2022-02-01</td>\n",
       "      <td>146</td>\n",
       "      <td>1643675054902</td>\n",
       "      <td>20220201</td>\n",
       "      <td>2414</td>\n",
       "      <td>1668804287157165</td>\n",
       "      <td>1</td>\n",
       "      <td>a5e00132373a7031000fd987a3c9f87b</td>\n",
       "      <td>...</td>\n",
       "      <td>375</td>\n",
       "      <td>0</td>\n",
       "      <td>0</td>\n",
       "      <td>0</td>\n",
       "      <td>5</td>\n",
       "      <td>0</td>\n",
       "      <td>2022-02-01 00:23:12.640</td>\n",
       "      <td>2022-11-18 20:44:47.157165039</td>\n",
       "      <td>2022-02-01 05:24:14.902</td>\n",
       "      <td>2022-02-01 05:55:45.762</td>\n",
       "    </tr>\n",
       "    <tr>\n",
       "      <th>4</th>\n",
       "      <td>1643676306189110049</td>\n",
       "      <td>76acc7e85e0a55ed17f7062844d95863</td>\n",
       "      <td>2022-02-01</td>\n",
       "      <td>10049</td>\n",
       "      <td>1643676306189</td>\n",
       "      <td>20220201</td>\n",
       "      <td>4506</td>\n",
       "      <td>1668804649764633</td>\n",
       "      <td>1</td>\n",
       "      <td>1759e864edd6cb2200926b3a2f729dac</td>\n",
       "      <td>...</td>\n",
       "      <td>0</td>\n",
       "      <td>0</td>\n",
       "      <td>0</td>\n",
       "      <td>0</td>\n",
       "      <td>0</td>\n",
       "      <td>0</td>\n",
       "      <td>2022-02-01 00:45:03.360</td>\n",
       "      <td>2022-11-18 20:50:49.764633057</td>\n",
       "      <td>2022-02-01 05:45:06.189</td>\n",
       "      <td>2022-02-01 05:50:22.752</td>\n",
       "    </tr>\n",
       "  </tbody>\n",
       "</table>\n",
       "<p>5 rows × 43 columns</p>\n",
       "</div>"
      ],
      "text/plain": [
       "                  uuid                         segmentid partitionDate  \\\n",
       "0  1643674369728110428  82906c5c224aa516c6d93297cb2d5ea6    2022-02-01   \n",
       "1  1643674654963103053  e573dd2f4be814fd569c4072f6bd313b    2022-02-01   \n",
       "2  1643674742010110411  34ee96170b98c727f54ac1506390cfaf    2022-02-01   \n",
       "3  1643675054902100146  ed65cba540ebcef63cbf825023c6a05d    2022-02-01   \n",
       "4  1643676306189110049  76acc7e85e0a55ed17f7062844d95863    2022-02-01   \n",
       "\n",
       "   device      timestamp  filedate  filetimeutc      updateTimeMs  sequenceNo  \\\n",
       "0   10428  1643674369728  20220201         1249  1668804806655171           1   \n",
       "1    3053  1643674654963  20220201         1734  1668804326987669           1   \n",
       "2   10411  1643674742010  20220201         1902  1668804687925360           1   \n",
       "3     146  1643675054902  20220201         2414  1668804287157165           1   \n",
       "4   10049  1643676306189  20220201         4506  1668804649764633           1   \n",
       "\n",
       "                                vin  ...  numSPATRx  numWarnings  numInforms  \\\n",
       "0  4342309e4ba71c9a7d478ed061abd025  ...          0            0           0   \n",
       "1  177540c7bcb8db31697b601642eac8d4  ...          0            0           0   \n",
       "2  2d5b53f80151aea5fef0722f8b1edf99  ...          0            0           0   \n",
       "3  a5e00132373a7031000fd987a3c9f87b  ...        375            0           0   \n",
       "4  1759e864edd6cb2200926b3a2f729dac  ...          0            0           0   \n",
       "\n",
       "   numGNSSOutages  numCANOutages  numIntersectionEncounters  \\\n",
       "0               0              0                          0   \n",
       "1               0             50                          0   \n",
       "2               0              0                          0   \n",
       "3               0              5                          0   \n",
       "4               0              0                          0   \n",
       "\n",
       "              timestamp_hr                updateTimeMs_hr  \\\n",
       "0  2022-02-01 00:12:17.280  2022-11-18 20:53:26.655170898   \n",
       "1  2022-02-01 00:16:39.424  2022-11-18 20:45:26.987668945   \n",
       "2  2022-02-01 00:18:50.496  2022-11-18 20:51:27.925360107   \n",
       "3  2022-02-01 00:23:12.640  2022-11-18 20:44:47.157165039   \n",
       "4  2022-02-01 00:45:03.360  2022-11-18 20:50:49.764633057   \n",
       "\n",
       "         startlocaltime_hr          endlocaltime_hr  \n",
       "0  2022-02-01 05:12:49.728  2022-02-01 05:13:10.930  \n",
       "1  2022-02-01 05:17:34.963  2022-02-01 05:24:18.763  \n",
       "2  2022-02-01 05:19:02.010  2022-02-01 05:30:43.439  \n",
       "3  2022-02-01 05:24:14.902  2022-02-01 05:55:45.762  \n",
       "4  2022-02-01 05:45:06.189  2022-02-01 05:50:22.752  \n",
       "\n",
       "[5 rows x 43 columns]"
      ]
     },
     "execution_count": 9,
     "metadata": {},
     "output_type": "execute_result"
    }
   ],
   "source": [
    "summary_df.head()"
   ]
  },
  {
   "cell_type": "code",
   "execution_count": 10,
   "id": "cb7502f4",
   "metadata": {},
   "outputs": [
    {
     "name": "stdout",
     "output_type": "stream",
     "text": [
      "<class 'pandas.core.frame.DataFrame'>\n",
      "Int64Index: 18680 entries, 0 to 6776\n",
      "Data columns (total 43 columns):\n",
      " #   Column                     Non-Null Count  Dtype  \n",
      "---  ------                     --------------  -----  \n",
      " 0   uuid                       18680 non-null  int64  \n",
      " 1   segmentid                  18680 non-null  object \n",
      " 2   partitionDate              18680 non-null  object \n",
      " 3   device                     18680 non-null  int64  \n",
      " 4   timestamp                  18680 non-null  int64  \n",
      " 5   filedate                   18680 non-null  int64  \n",
      " 6   filetimeutc                18680 non-null  int64  \n",
      " 7   updateTimeMs               18680 non-null  int64  \n",
      " 8   sequenceNo                 18680 non-null  int64  \n",
      " 9   vin                        18680 non-null  object \n",
      " 10  tripId                     18680 non-null  int64  \n",
      " 11  utctime                    18680 non-null  int64  \n",
      " 12  startlocaltime             18680 non-null  int64  \n",
      " 13  endlocaltime               18680 non-null  int64  \n",
      " 14  swversionmaj               0 non-null      float64\n",
      " 15  swversionmin               0 non-null      float64\n",
      " 16  startlatitude              8238 non-null   float64\n",
      " 17  startlongitude             8238 non-null   float64\n",
      " 18  endlatitude                18069 non-null  float64\n",
      " 19  endlongitude               18069 non-null  float64\n",
      " 20  numBSMTx                   18680 non-null  int64  \n",
      " 21  firmwareVersionString      18610 non-null  object \n",
      " 22  configsVersionString       18617 non-null  object \n",
      " 23  fullMediaVersionString     18617 non-null  object \n",
      " 24  deltaMediaVersionString    18617 non-null  object \n",
      " 25  pluginsVersionString       18617 non-null  object \n",
      " 26  totalStorageOnDevice       18680 non-null  int64  \n",
      " 27  storageUsed                18680 non-null  int64  \n",
      " 28  configVersion              18680 non-null  int64  \n",
      " 29  startodometer              6227 non-null   float64\n",
      " 30  endodometer                17287 non-null  float64\n",
      " 31  numNormalBSMRx             18680 non-null  int64  \n",
      " 32  numShadowBSMRx             18680 non-null  int64  \n",
      " 33  numSPATRx                  18680 non-null  int64  \n",
      " 34  numWarnings                18680 non-null  int64  \n",
      " 35  numInforms                 18680 non-null  int64  \n",
      " 36  numGNSSOutages             18680 non-null  int64  \n",
      " 37  numCANOutages              18680 non-null  int64  \n",
      " 38  numIntersectionEncounters  18680 non-null  int64  \n",
      " 39  timestamp_hr               18680 non-null  object \n",
      " 40  updateTimeMs_hr            18680 non-null  object \n",
      " 41  startlocaltime_hr          18680 non-null  object \n",
      " 42  endlocaltime_hr            18680 non-null  object \n",
      "dtypes: float64(8), int64(23), object(12)\n",
      "memory usage: 6.3+ MB\n"
     ]
    }
   ],
   "source": [
    "summary_df.info()"
   ]
  },
  {
   "cell_type": "code",
   "execution_count": 11,
   "id": "2096fa9b",
   "metadata": {},
   "outputs": [
    {
     "data": {
      "text/html": [
       "<div>\n",
       "<style scoped>\n",
       "    .dataframe tbody tr th:only-of-type {\n",
       "        vertical-align: middle;\n",
       "    }\n",
       "\n",
       "    .dataframe tbody tr th {\n",
       "        vertical-align: top;\n",
       "    }\n",
       "\n",
       "    .dataframe thead th {\n",
       "        text-align: right;\n",
       "    }\n",
       "</style>\n",
       "<table border=\"1\" class=\"dataframe\">\n",
       "  <thead>\n",
       "    <tr style=\"text-align: right;\">\n",
       "      <th></th>\n",
       "      <th>numBSMTx</th>\n",
       "      <th>numWarnings</th>\n",
       "      <th>numInforms</th>\n",
       "      <th>numNormalBSMRx</th>\n",
       "    </tr>\n",
       "  </thead>\n",
       "  <tbody>\n",
       "    <tr>\n",
       "      <th>count</th>\n",
       "      <td>18680.000000</td>\n",
       "      <td>18680.000000</td>\n",
       "      <td>18680.000000</td>\n",
       "      <td>18680.000000</td>\n",
       "    </tr>\n",
       "    <tr>\n",
       "      <th>mean</th>\n",
       "      <td>12175.680460</td>\n",
       "      <td>0.277302</td>\n",
       "      <td>0.346092</td>\n",
       "      <td>236.131745</td>\n",
       "    </tr>\n",
       "    <tr>\n",
       "      <th>std</th>\n",
       "      <td>13265.830253</td>\n",
       "      <td>8.343474</td>\n",
       "      <td>8.432338</td>\n",
       "      <td>1429.421393</td>\n",
       "    </tr>\n",
       "    <tr>\n",
       "      <th>min</th>\n",
       "      <td>0.000000</td>\n",
       "      <td>0.000000</td>\n",
       "      <td>0.000000</td>\n",
       "      <td>0.000000</td>\n",
       "    </tr>\n",
       "    <tr>\n",
       "      <th>25%</th>\n",
       "      <td>3212.000000</td>\n",
       "      <td>0.000000</td>\n",
       "      <td>0.000000</td>\n",
       "      <td>0.000000</td>\n",
       "    </tr>\n",
       "    <tr>\n",
       "      <th>50%</th>\n",
       "      <td>8220.500000</td>\n",
       "      <td>0.000000</td>\n",
       "      <td>0.000000</td>\n",
       "      <td>0.000000</td>\n",
       "    </tr>\n",
       "    <tr>\n",
       "      <th>75%</th>\n",
       "      <td>17806.000000</td>\n",
       "      <td>0.000000</td>\n",
       "      <td>0.000000</td>\n",
       "      <td>58.000000</td>\n",
       "    </tr>\n",
       "    <tr>\n",
       "      <th>max</th>\n",
       "      <td>340200.000000</td>\n",
       "      <td>255.000000</td>\n",
       "      <td>255.000000</td>\n",
       "      <td>115637.000000</td>\n",
       "    </tr>\n",
       "  </tbody>\n",
       "</table>\n",
       "</div>"
      ],
      "text/plain": [
       "            numBSMTx   numWarnings    numInforms  numNormalBSMRx\n",
       "count   18680.000000  18680.000000  18680.000000    18680.000000\n",
       "mean    12175.680460      0.277302      0.346092      236.131745\n",
       "std     13265.830253      8.343474      8.432338     1429.421393\n",
       "min         0.000000      0.000000      0.000000        0.000000\n",
       "25%      3212.000000      0.000000      0.000000        0.000000\n",
       "50%      8220.500000      0.000000      0.000000        0.000000\n",
       "75%     17806.000000      0.000000      0.000000       58.000000\n",
       "max    340200.000000    255.000000    255.000000   115637.000000"
      ]
     },
     "execution_count": 11,
     "metadata": {},
     "output_type": "execute_result"
    }
   ],
   "source": [
    "safety_msgs = ['numBSMTx', 'numWarnings', 'numInforms', 'numNormalBSMRx']\n",
    "\n",
    "summary_df[safety_msgs].describe()"
   ]
  },
  {
   "cell_type": "code",
   "execution_count": 12,
   "id": "712ca201",
   "metadata": {},
   "outputs": [
    {
     "name": "stdout",
     "output_type": "stream",
     "text": [
      "No.of values equal to zero in column numBSMTx is 588\n",
      "No.of values equal to zero in column numWarnings is 18645\n",
      "No.of values equal to zero in column numInforms is 18509\n",
      "No.of values equal to zero in column numNormalBSMRx is 12745\n"
     ]
    }
   ],
   "source": [
    "for each in safety_msgs:\n",
    "    print('No.of values equal to zero in column {} is {}'.format(each, summary_df[each].value_counts()[0]))"
   ]
  },
  {
   "cell_type": "code",
   "execution_count": 13,
   "id": "24d858d3",
   "metadata": {},
   "outputs": [
    {
     "data": {
      "text/html": [
       "<div>\n",
       "<style scoped>\n",
       "    .dataframe tbody tr th:only-of-type {\n",
       "        vertical-align: middle;\n",
       "    }\n",
       "\n",
       "    .dataframe tbody tr th {\n",
       "        vertical-align: top;\n",
       "    }\n",
       "\n",
       "    .dataframe thead th {\n",
       "        text-align: right;\n",
       "    }\n",
       "</style>\n",
       "<table border=\"1\" class=\"dataframe\">\n",
       "  <thead>\n",
       "    <tr style=\"text-align: right;\">\n",
       "      <th></th>\n",
       "      <th>numBSMTx</th>\n",
       "      <th>numWarnings</th>\n",
       "      <th>numInforms</th>\n",
       "      <th>numNormalBSMRx</th>\n",
       "    </tr>\n",
       "  </thead>\n",
       "  <tbody>\n",
       "    <tr>\n",
       "      <th>numBSMTx</th>\n",
       "      <td>1.000000</td>\n",
       "      <td>-0.006959</td>\n",
       "      <td>-0.002720</td>\n",
       "      <td>0.138333</td>\n",
       "    </tr>\n",
       "    <tr>\n",
       "      <th>numWarnings</th>\n",
       "      <td>-0.006959</td>\n",
       "      <td>1.000000</td>\n",
       "      <td>0.988275</td>\n",
       "      <td>0.009561</td>\n",
       "    </tr>\n",
       "    <tr>\n",
       "      <th>numInforms</th>\n",
       "      <td>-0.002720</td>\n",
       "      <td>0.988275</td>\n",
       "      <td>1.000000</td>\n",
       "      <td>0.017863</td>\n",
       "    </tr>\n",
       "    <tr>\n",
       "      <th>numNormalBSMRx</th>\n",
       "      <td>0.138333</td>\n",
       "      <td>0.009561</td>\n",
       "      <td>0.017863</td>\n",
       "      <td>1.000000</td>\n",
       "    </tr>\n",
       "  </tbody>\n",
       "</table>\n",
       "</div>"
      ],
      "text/plain": [
       "                numBSMTx  numWarnings  numInforms  numNormalBSMRx\n",
       "numBSMTx        1.000000    -0.006959   -0.002720        0.138333\n",
       "numWarnings    -0.006959     1.000000    0.988275        0.009561\n",
       "numInforms     -0.002720     0.988275    1.000000        0.017863\n",
       "numNormalBSMRx  0.138333     0.009561    0.017863        1.000000"
      ]
     },
     "execution_count": 13,
     "metadata": {},
     "output_type": "execute_result"
    }
   ],
   "source": [
    "summary_df[safety_msgs].corr()\n",
    "\n",
    "# no.of informs and no.of warnings are extremely positively correlated - we might delete one later on"
   ]
  },
  {
   "cell_type": "code",
   "execution_count": 14,
   "id": "e1b7388e",
   "metadata": {},
   "outputs": [
    {
     "data": {
      "text/plain": [
       "uuid                         18680\n",
       "segmentid                    18680\n",
       "partitionDate                   90\n",
       "device                         157\n",
       "timestamp                    18680\n",
       "filedate                        90\n",
       "filetimeutc                  16019\n",
       "updateTimeMs                 18680\n",
       "sequenceNo                       1\n",
       "vin                            157\n",
       "tripId                       18680\n",
       "utctime                      18680\n",
       "startlocaltime               18677\n",
       "endlocaltime                 18676\n",
       "swversionmaj                     0\n",
       "swversionmin                     0\n",
       "startlatitude                 6585\n",
       "startlongitude                6585\n",
       "endlatitude                  17344\n",
       "endlongitude                 17345\n",
       "numBSMTx                     13185\n",
       "firmwareVersionString           16\n",
       "configsVersionString            10\n",
       "fullMediaVersionString          13\n",
       "deltaMediaVersionString          3\n",
       "pluginsVersionString             6\n",
       "totalStorageOnDevice             5\n",
       "storageUsed                    228\n",
       "configVersion                    1\n",
       "startodometer                   63\n",
       "endodometer                   2528\n",
       "numNormalBSMRx                1748\n",
       "numShadowBSMRx                 262\n",
       "numSPATRx                     1502\n",
       "numWarnings                      9\n",
       "numInforms                      34\n",
       "numGNSSOutages                  27\n",
       "numCANOutages                  119\n",
       "numIntersectionEncounters       85\n",
       "timestamp_hr                 14860\n",
       "updateTimeMs_hr              18680\n",
       "startlocaltime_hr            18680\n",
       "endlocaltime_hr              18680\n",
       "dtype: int64"
      ]
     },
     "execution_count": 14,
     "metadata": {},
     "output_type": "execute_result"
    }
   ],
   "source": [
    "# No.of distinct values in each column\n",
    "\n",
    "summary_df.nunique()"
   ]
  },
  {
   "cell_type": "code",
   "execution_count": 15,
   "id": "7af800c4",
   "metadata": {},
   "outputs": [],
   "source": [
    "# partitionDate - 90 days data - jan / feb / march 2022 - same is represented in file date\n",
    "\n",
    "# device - data of 157 employees / cars - also represented by vin\n",
    "\n",
    "# Almost 10,000 null values in start latitude and longitude \n",
    "\n",
    "# 12,000+ null values in start odometer, 1000+ nulls in end odometer "
   ]
  },
  {
   "cell_type": "code",
   "execution_count": 16,
   "id": "fa96f728",
   "metadata": {},
   "outputs": [
    {
     "data": {
      "text/plain": [
       "startodometer\n",
       "0.0              6147\n",
       "51132855.0          8\n",
       "51097855.0          5\n",
       "51092854.0          3\n",
       "51605853.0          2\n",
       "                 ... \n",
       "6921980.0           1\n",
       "7038979.0           1\n",
       "7047979.0           1\n",
       "7170979.0           1\n",
       "75449788.0          1\n",
       "Length: 63, dtype: int64"
      ]
     },
     "execution_count": 16,
     "metadata": {},
     "output_type": "execute_result"
    }
   ],
   "source": [
    "summary_df[['startodometer']].value_counts() \n",
    "\n",
    "# whole column is almost null / zero"
   ]
  },
  {
   "cell_type": "code",
   "execution_count": 17,
   "id": "579e3ba3",
   "metadata": {},
   "outputs": [
    {
     "data": {
      "text/plain": [
       "Text(0.5, 0, 'odometer values at the end of each trip')"
      ]
     },
     "execution_count": 17,
     "metadata": {},
     "output_type": "execute_result"
    },
    {
     "data": {
      "image/png": "[encoded data removed]",
      "text/plain": [
       "<Figure size 640x480 with 1 Axes>"
      ]
     },
     "metadata": {},
     "output_type": "display_data"
    }
   ],
   "source": [
    "sns.histplot(summary_df[['endodometer']], kde = True)\n",
    "\n",
    "plt.title('Histogram of endodometer values')\n",
    "plt.xlabel('odometer values at the end of each trip')\n",
    "\n",
    "# nothing much useful about this column as well"
   ]
  },
  {
   "cell_type": "code",
   "execution_count": 18,
   "id": "8308f9c7",
   "metadata": {},
   "outputs": [
    {
     "data": {
      "text/html": [
       "<div>\n",
       "<style scoped>\n",
       "    .dataframe tbody tr th:only-of-type {\n",
       "        vertical-align: middle;\n",
       "    }\n",
       "\n",
       "    .dataframe tbody tr th {\n",
       "        vertical-align: top;\n",
       "    }\n",
       "\n",
       "    .dataframe thead th {\n",
       "        text-align: right;\n",
       "    }\n",
       "</style>\n",
       "<table border=\"1\" class=\"dataframe\">\n",
       "  <thead>\n",
       "    <tr style=\"text-align: right;\">\n",
       "      <th></th>\n",
       "      <th>endlocaltime_hr</th>\n",
       "      <th>startlocaltime_hr</th>\n",
       "    </tr>\n",
       "  </thead>\n",
       "  <tbody>\n",
       "    <tr>\n",
       "      <th>0</th>\n",
       "      <td>2022-02-01 05:13:10.930</td>\n",
       "      <td>2022-02-01 05:12:49.728</td>\n",
       "    </tr>\n",
       "    <tr>\n",
       "      <th>1</th>\n",
       "      <td>2022-02-01 05:24:18.763</td>\n",
       "      <td>2022-02-01 05:17:34.963</td>\n",
       "    </tr>\n",
       "    <tr>\n",
       "      <th>2</th>\n",
       "      <td>2022-02-01 05:30:43.439</td>\n",
       "      <td>2022-02-01 05:19:02.010</td>\n",
       "    </tr>\n",
       "    <tr>\n",
       "      <th>3</th>\n",
       "      <td>2022-02-01 05:55:45.762</td>\n",
       "      <td>2022-02-01 05:24:14.902</td>\n",
       "    </tr>\n",
       "    <tr>\n",
       "      <th>4</th>\n",
       "      <td>2022-02-01 05:50:22.752</td>\n",
       "      <td>2022-02-01 05:45:06.189</td>\n",
       "    </tr>\n",
       "  </tbody>\n",
       "</table>\n",
       "</div>"
      ],
      "text/plain": [
       "           endlocaltime_hr        startlocaltime_hr\n",
       "0  2022-02-01 05:13:10.930  2022-02-01 05:12:49.728\n",
       "1  2022-02-01 05:24:18.763  2022-02-01 05:17:34.963\n",
       "2  2022-02-01 05:30:43.439  2022-02-01 05:19:02.010\n",
       "3  2022-02-01 05:55:45.762  2022-02-01 05:24:14.902\n",
       "4  2022-02-01 05:50:22.752  2022-02-01 05:45:06.189"
      ]
     },
     "execution_count": 18,
     "metadata": {},
     "output_type": "execute_result"
    }
   ],
   "source": [
    "summary_df[['endlocaltime_hr', 'startlocaltime_hr']].head() \n",
    "\n",
    "# They are of object data type"
   ]
  },
  {
   "cell_type": "code",
   "execution_count": 19,
   "id": "1d45b585",
   "metadata": {},
   "outputs": [],
   "source": [
    "# Calculating the trip duration in mintues as int data type\n",
    "\n",
    "#for now, just leaving out the date in the columns endlocaltime_hr, startlocaltime_hr\n",
    "\n",
    "summary_df['startlocaltime_hr'] = pd.to_datetime(summary_df['startlocaltime_hr'])\n",
    "summary_df['endlocaltime_hr'] = pd.to_datetime(summary_df['endlocaltime_hr'])\n",
    "\n",
    "summary_df['trip_duration_min'] = ((summary_df['endlocaltime_hr'] - summary_df['startlocaltime_hr']).astype('timedelta64[m]')).astype(int)\n"
   ]
  },
  {
   "cell_type": "code",
   "execution_count": 20,
   "id": "0c367cb1",
   "metadata": {},
   "outputs": [
    {
     "data": {
      "text/plain": [
       "Text(0.5, 0, 'values for the duration of each trip')"
      ]
     },
     "execution_count": 20,
     "metadata": {},
     "output_type": "execute_result"
    },
    {
     "data": {
      "image/png": "[encoded data removed]",
      "text/plain": [
       "<Figure size 640x480 with 1 Axes>"
      ]
     },
     "metadata": {},
     "output_type": "display_data"
    }
   ],
   "source": [
    "sns.histplot(summary_df[['trip_duration_min']], kde = True)\n",
    "\n",
    "plt.title('Histogram of trip durations')\n",
    "plt.xlabel('values for the duration of each trip')"
   ]
  },
  {
   "cell_type": "code",
   "execution_count": 21,
   "id": "585b45f5",
   "metadata": {},
   "outputs": [
    {
     "data": {
      "text/plain": [
       "count    18680.000000\n",
       "mean        20.637580\n",
       "std         26.640382\n",
       "min          0.000000\n",
       "25%          5.000000\n",
       "50%         14.000000\n",
       "75%         30.000000\n",
       "max       1439.000000\n",
       "Name: trip_duration_min, dtype: float64"
      ]
     },
     "execution_count": 21,
     "metadata": {},
     "output_type": "execute_result"
    }
   ],
   "source": [
    "summary_df['trip_duration_min'].describe()\n",
    "\n",
    "# Most of the trips are around 20 min"
   ]
  },
  {
   "cell_type": "code",
   "execution_count": null,
   "id": "bf79e942",
   "metadata": {},
   "outputs": [],
   "source": []
  },
  {
   "cell_type": "markdown",
   "id": "77c8f57e",
   "metadata": {},
   "source": [
    "# Host dataset"
   ]
  },
  {
   "cell_type": "code",
   "execution_count": 22,
   "id": "d2b2019c",
   "metadata": {},
   "outputs": [
    {
     "data": {
      "text/html": [
       "<div>\n",
       "<style scoped>\n",
       "    .dataframe tbody tr th:only-of-type {\n",
       "        vertical-align: middle;\n",
       "    }\n",
       "\n",
       "    .dataframe tbody tr th {\n",
       "        vertical-align: top;\n",
       "    }\n",
       "\n",
       "    .dataframe thead th {\n",
       "        text-align: right;\n",
       "    }\n",
       "</style>\n",
       "<table border=\"1\" class=\"dataframe\">\n",
       "  <thead>\n",
       "    <tr style=\"text-align: right;\">\n",
       "      <th></th>\n",
       "      <th>uuid</th>\n",
       "      <th>segmentid</th>\n",
       "      <th>partitionDate</th>\n",
       "      <th>device</th>\n",
       "      <th>timestamp</th>\n",
       "      <th>filedate</th>\n",
       "      <th>filetimeutc</th>\n",
       "      <th>updateTimeMs</th>\n",
       "      <th>sequenceNo</th>\n",
       "      <th>vin</th>\n",
       "      <th>...</th>\n",
       "      <th>headlamp</th>\n",
       "      <th>wiper</th>\n",
       "      <th>stabilitycontrolstatus</th>\n",
       "      <th>absstatus</th>\n",
       "      <th>traccontrolstatus</th>\n",
       "      <th>closestintersectid</th>\n",
       "      <th>gpsUncertainFlag</th>\n",
       "      <th>speedMph</th>\n",
       "      <th>timestamp_hr</th>\n",
       "      <th>updateTimeMs_hr</th>\n",
       "    </tr>\n",
       "  </thead>\n",
       "  <tbody>\n",
       "    <tr>\n",
       "      <th>0</th>\n",
       "      <td>1643674370327110428</td>\n",
       "      <td>82906c5c224aa516c6d93297cb2d5ea6</td>\n",
       "      <td>2022-02-01</td>\n",
       "      <td>10428</td>\n",
       "      <td>1643674370327</td>\n",
       "      <td>20220201</td>\n",
       "      <td>1249</td>\n",
       "      <td>1678891735000</td>\n",
       "      <td>1</td>\n",
       "      <td>4342309e4ba71c9a7d478ed061abd025</td>\n",
       "      <td>...</td>\n",
       "      <td>0.0</td>\n",
       "      <td>0.0</td>\n",
       "      <td>0.0</td>\n",
       "      <td>0.0</td>\n",
       "      <td>0</td>\n",
       "      <td>0</td>\n",
       "      <td>False</td>\n",
       "      <td>0.0</td>\n",
       "      <td>2022-02-01 00:12:17.280</td>\n",
       "      <td>1970-01-20 10:21:31.735</td>\n",
       "    </tr>\n",
       "    <tr>\n",
       "      <th>1</th>\n",
       "      <td>1643674370827210428</td>\n",
       "      <td>82906c5c224aa516c6d93297cb2d5ea6</td>\n",
       "      <td>2022-02-01</td>\n",
       "      <td>10428</td>\n",
       "      <td>1643674370827</td>\n",
       "      <td>20220201</td>\n",
       "      <td>1249</td>\n",
       "      <td>1678891735000</td>\n",
       "      <td>2</td>\n",
       "      <td>4342309e4ba71c9a7d478ed061abd025</td>\n",
       "      <td>...</td>\n",
       "      <td>0.0</td>\n",
       "      <td>0.0</td>\n",
       "      <td>0.0</td>\n",
       "      <td>0.0</td>\n",
       "      <td>0</td>\n",
       "      <td>0</td>\n",
       "      <td>False</td>\n",
       "      <td>0.0</td>\n",
       "      <td>2022-02-01 00:12:17.280</td>\n",
       "      <td>1970-01-20 10:21:31.735</td>\n",
       "    </tr>\n",
       "    <tr>\n",
       "      <th>2</th>\n",
       "      <td>1643674371327310428</td>\n",
       "      <td>82906c5c224aa516c6d93297cb2d5ea6</td>\n",
       "      <td>2022-02-01</td>\n",
       "      <td>10428</td>\n",
       "      <td>1643674371327</td>\n",
       "      <td>20220201</td>\n",
       "      <td>1249</td>\n",
       "      <td>1678891735000</td>\n",
       "      <td>3</td>\n",
       "      <td>4342309e4ba71c9a7d478ed061abd025</td>\n",
       "      <td>...</td>\n",
       "      <td>0.0</td>\n",
       "      <td>0.0</td>\n",
       "      <td>0.0</td>\n",
       "      <td>0.0</td>\n",
       "      <td>0</td>\n",
       "      <td>0</td>\n",
       "      <td>False</td>\n",
       "      <td>0.0</td>\n",
       "      <td>2022-02-01 00:12:17.280</td>\n",
       "      <td>1970-01-20 10:21:31.735</td>\n",
       "    </tr>\n",
       "    <tr>\n",
       "      <th>3</th>\n",
       "      <td>1643674371827410428</td>\n",
       "      <td>82906c5c224aa516c6d93297cb2d5ea6</td>\n",
       "      <td>2022-02-01</td>\n",
       "      <td>10428</td>\n",
       "      <td>1643674371827</td>\n",
       "      <td>20220201</td>\n",
       "      <td>1249</td>\n",
       "      <td>1678891735000</td>\n",
       "      <td>4</td>\n",
       "      <td>4342309e4ba71c9a7d478ed061abd025</td>\n",
       "      <td>...</td>\n",
       "      <td>0.0</td>\n",
       "      <td>0.0</td>\n",
       "      <td>0.0</td>\n",
       "      <td>0.0</td>\n",
       "      <td>0</td>\n",
       "      <td>0</td>\n",
       "      <td>False</td>\n",
       "      <td>0.0</td>\n",
       "      <td>2022-02-01 00:12:17.280</td>\n",
       "      <td>1970-01-20 10:21:31.735</td>\n",
       "    </tr>\n",
       "    <tr>\n",
       "      <th>4</th>\n",
       "      <td>1643674372327510428</td>\n",
       "      <td>82906c5c224aa516c6d93297cb2d5ea6</td>\n",
       "      <td>2022-02-01</td>\n",
       "      <td>10428</td>\n",
       "      <td>1643674372327</td>\n",
       "      <td>20220201</td>\n",
       "      <td>1249</td>\n",
       "      <td>1678891735000</td>\n",
       "      <td>5</td>\n",
       "      <td>4342309e4ba71c9a7d478ed061abd025</td>\n",
       "      <td>...</td>\n",
       "      <td>0.0</td>\n",
       "      <td>0.0</td>\n",
       "      <td>0.0</td>\n",
       "      <td>0.0</td>\n",
       "      <td>0</td>\n",
       "      <td>0</td>\n",
       "      <td>False</td>\n",
       "      <td>0.0</td>\n",
       "      <td>2022-02-01 00:12:17.280</td>\n",
       "      <td>1970-01-20 10:21:31.735</td>\n",
       "    </tr>\n",
       "  </tbody>\n",
       "</table>\n",
       "<p>5 rows × 44 columns</p>\n",
       "</div>"
      ],
      "text/plain": [
       "                  uuid                         segmentid partitionDate  \\\n",
       "0  1643674370327110428  82906c5c224aa516c6d93297cb2d5ea6    2022-02-01   \n",
       "1  1643674370827210428  82906c5c224aa516c6d93297cb2d5ea6    2022-02-01   \n",
       "2  1643674371327310428  82906c5c224aa516c6d93297cb2d5ea6    2022-02-01   \n",
       "3  1643674371827410428  82906c5c224aa516c6d93297cb2d5ea6    2022-02-01   \n",
       "4  1643674372327510428  82906c5c224aa516c6d93297cb2d5ea6    2022-02-01   \n",
       "\n",
       "   device      timestamp  filedate  filetimeutc   updateTimeMs  sequenceNo  \\\n",
       "0   10428  1643674370327  20220201         1249  1678891735000           1   \n",
       "1   10428  1643674370827  20220201         1249  1678891735000           2   \n",
       "2   10428  1643674371327  20220201         1249  1678891735000           3   \n",
       "3   10428  1643674371827  20220201         1249  1678891735000           4   \n",
       "4   10428  1643674372327  20220201         1249  1678891735000           5   \n",
       "\n",
       "                                vin  ...  headlamp  wiper  \\\n",
       "0  4342309e4ba71c9a7d478ed061abd025  ...       0.0    0.0   \n",
       "1  4342309e4ba71c9a7d478ed061abd025  ...       0.0    0.0   \n",
       "2  4342309e4ba71c9a7d478ed061abd025  ...       0.0    0.0   \n",
       "3  4342309e4ba71c9a7d478ed061abd025  ...       0.0    0.0   \n",
       "4  4342309e4ba71c9a7d478ed061abd025  ...       0.0    0.0   \n",
       "\n",
       "   stabilitycontrolstatus  absstatus  traccontrolstatus  closestintersectid  \\\n",
       "0                     0.0        0.0                  0                   0   \n",
       "1                     0.0        0.0                  0                   0   \n",
       "2                     0.0        0.0                  0                   0   \n",
       "3                     0.0        0.0                  0                   0   \n",
       "4                     0.0        0.0                  0                   0   \n",
       "\n",
       "   gpsUncertainFlag  speedMph             timestamp_hr  \\\n",
       "0             False       0.0  2022-02-01 00:12:17.280   \n",
       "1             False       0.0  2022-02-01 00:12:17.280   \n",
       "2             False       0.0  2022-02-01 00:12:17.280   \n",
       "3             False       0.0  2022-02-01 00:12:17.280   \n",
       "4             False       0.0  2022-02-01 00:12:17.280   \n",
       "\n",
       "           updateTimeMs_hr  \n",
       "0  1970-01-20 10:21:31.735  \n",
       "1  1970-01-20 10:21:31.735  \n",
       "2  1970-01-20 10:21:31.735  \n",
       "3  1970-01-20 10:21:31.735  \n",
       "4  1970-01-20 10:21:31.735  \n",
       "\n",
       "[5 rows x 44 columns]"
      ]
     },
     "execution_count": 22,
     "metadata": {},
     "output_type": "execute_result"
    }
   ],
   "source": [
    "host_df.head()"
   ]
  },
  {
   "cell_type": "code",
   "execution_count": 23,
   "id": "0948a3be",
   "metadata": {},
   "outputs": [
    {
     "data": {
      "text/plain": [
       "(36652356, 44)"
      ]
     },
     "execution_count": 23,
     "metadata": {},
     "output_type": "execute_result"
    }
   ],
   "source": [
    "host_df.shape\n",
    "\n",
    "# since the dataset is huge, let's just focus on useful columns for now \n",
    "\n",
    "# might have to sample the data as well - we will start with considering the data of february month"
   ]
  },
  {
   "cell_type": "code",
   "execution_count": 24,
   "id": "6adfe965",
   "metadata": {},
   "outputs": [
    {
     "data": {
      "text/html": [
       "<div>\n",
       "<style scoped>\n",
       "    .dataframe tbody tr th:only-of-type {\n",
       "        vertical-align: middle;\n",
       "    }\n",
       "\n",
       "    .dataframe tbody tr th {\n",
       "        vertical-align: top;\n",
       "    }\n",
       "\n",
       "    .dataframe thead th {\n",
       "        text-align: right;\n",
       "    }\n",
       "</style>\n",
       "<table border=\"1\" class=\"dataframe\">\n",
       "  <thead>\n",
       "    <tr style=\"text-align: right;\">\n",
       "      <th></th>\n",
       "      <th>uuid</th>\n",
       "      <th>segmentid</th>\n",
       "      <th>partitionDate</th>\n",
       "      <th>device</th>\n",
       "      <th>timestamp</th>\n",
       "      <th>filedate</th>\n",
       "      <th>filetimeutc</th>\n",
       "      <th>updateTimeMs</th>\n",
       "      <th>sequenceNo</th>\n",
       "      <th>vin</th>\n",
       "      <th>...</th>\n",
       "      <th>headlamp</th>\n",
       "      <th>wiper</th>\n",
       "      <th>stabilitycontrolstatus</th>\n",
       "      <th>absstatus</th>\n",
       "      <th>traccontrolstatus</th>\n",
       "      <th>closestintersectid</th>\n",
       "      <th>gpsUncertainFlag</th>\n",
       "      <th>speedMph</th>\n",
       "      <th>timestamp_hr</th>\n",
       "      <th>updateTimeMs_hr</th>\n",
       "    </tr>\n",
       "  </thead>\n",
       "  <tbody>\n",
       "    <tr>\n",
       "      <th>0</th>\n",
       "      <td>1643674370327110428</td>\n",
       "      <td>82906c5c224aa516c6d93297cb2d5ea6</td>\n",
       "      <td>2022-02-01</td>\n",
       "      <td>10428</td>\n",
       "      <td>1643674370327</td>\n",
       "      <td>20220201</td>\n",
       "      <td>1249</td>\n",
       "      <td>1678891735000</td>\n",
       "      <td>1</td>\n",
       "      <td>4342309e4ba71c9a7d478ed061abd025</td>\n",
       "      <td>...</td>\n",
       "      <td>0.0</td>\n",
       "      <td>0.0</td>\n",
       "      <td>0.0</td>\n",
       "      <td>0.0</td>\n",
       "      <td>0</td>\n",
       "      <td>0</td>\n",
       "      <td>False</td>\n",
       "      <td>0.000000</td>\n",
       "      <td>2022-02-01 00:12:17.280</td>\n",
       "      <td>1970-01-20 10:21:31.735</td>\n",
       "    </tr>\n",
       "    <tr>\n",
       "      <th>1</th>\n",
       "      <td>1643674370827210428</td>\n",
       "      <td>82906c5c224aa516c6d93297cb2d5ea6</td>\n",
       "      <td>2022-02-01</td>\n",
       "      <td>10428</td>\n",
       "      <td>1643674370827</td>\n",
       "      <td>20220201</td>\n",
       "      <td>1249</td>\n",
       "      <td>1678891735000</td>\n",
       "      <td>2</td>\n",
       "      <td>4342309e4ba71c9a7d478ed061abd025</td>\n",
       "      <td>...</td>\n",
       "      <td>0.0</td>\n",
       "      <td>0.0</td>\n",
       "      <td>0.0</td>\n",
       "      <td>0.0</td>\n",
       "      <td>0</td>\n",
       "      <td>0</td>\n",
       "      <td>False</td>\n",
       "      <td>0.000000</td>\n",
       "      <td>2022-02-01 00:12:17.280</td>\n",
       "      <td>1970-01-20 10:21:31.735</td>\n",
       "    </tr>\n",
       "    <tr>\n",
       "      <th>2</th>\n",
       "      <td>1643674371327310428</td>\n",
       "      <td>82906c5c224aa516c6d93297cb2d5ea6</td>\n",
       "      <td>2022-02-01</td>\n",
       "      <td>10428</td>\n",
       "      <td>1643674371327</td>\n",
       "      <td>20220201</td>\n",
       "      <td>1249</td>\n",
       "      <td>1678891735000</td>\n",
       "      <td>3</td>\n",
       "      <td>4342309e4ba71c9a7d478ed061abd025</td>\n",
       "      <td>...</td>\n",
       "      <td>0.0</td>\n",
       "      <td>0.0</td>\n",
       "      <td>0.0</td>\n",
       "      <td>0.0</td>\n",
       "      <td>0</td>\n",
       "      <td>0</td>\n",
       "      <td>False</td>\n",
       "      <td>0.000000</td>\n",
       "      <td>2022-02-01 00:12:17.280</td>\n",
       "      <td>1970-01-20 10:21:31.735</td>\n",
       "    </tr>\n",
       "    <tr>\n",
       "      <th>3</th>\n",
       "      <td>1643674371827410428</td>\n",
       "      <td>82906c5c224aa516c6d93297cb2d5ea6</td>\n",
       "      <td>2022-02-01</td>\n",
       "      <td>10428</td>\n",
       "      <td>1643674371827</td>\n",
       "      <td>20220201</td>\n",
       "      <td>1249</td>\n",
       "      <td>1678891735000</td>\n",
       "      <td>4</td>\n",
       "      <td>4342309e4ba71c9a7d478ed061abd025</td>\n",
       "      <td>...</td>\n",
       "      <td>0.0</td>\n",
       "      <td>0.0</td>\n",
       "      <td>0.0</td>\n",
       "      <td>0.0</td>\n",
       "      <td>0</td>\n",
       "      <td>0</td>\n",
       "      <td>False</td>\n",
       "      <td>0.000000</td>\n",
       "      <td>2022-02-01 00:12:17.280</td>\n",
       "      <td>1970-01-20 10:21:31.735</td>\n",
       "    </tr>\n",
       "    <tr>\n",
       "      <th>4</th>\n",
       "      <td>1643674372327510428</td>\n",
       "      <td>82906c5c224aa516c6d93297cb2d5ea6</td>\n",
       "      <td>2022-02-01</td>\n",
       "      <td>10428</td>\n",
       "      <td>1643674372327</td>\n",
       "      <td>20220201</td>\n",
       "      <td>1249</td>\n",
       "      <td>1678891735000</td>\n",
       "      <td>5</td>\n",
       "      <td>4342309e4ba71c9a7d478ed061abd025</td>\n",
       "      <td>...</td>\n",
       "      <td>0.0</td>\n",
       "      <td>0.0</td>\n",
       "      <td>0.0</td>\n",
       "      <td>0.0</td>\n",
       "      <td>0</td>\n",
       "      <td>0</td>\n",
       "      <td>False</td>\n",
       "      <td>0.000000</td>\n",
       "      <td>2022-02-01 00:12:17.280</td>\n",
       "      <td>1970-01-20 10:21:31.735</td>\n",
       "    </tr>\n",
       "    <tr>\n",
       "      <th>...</th>\n",
       "      <td>...</td>\n",
       "      <td>...</td>\n",
       "      <td>...</td>\n",
       "      <td>...</td>\n",
       "      <td>...</td>\n",
       "      <td>...</td>\n",
       "      <td>...</td>\n",
       "      <td>...</td>\n",
       "      <td>...</td>\n",
       "      <td>...</td>\n",
       "      <td>...</td>\n",
       "      <td>...</td>\n",
       "      <td>...</td>\n",
       "      <td>...</td>\n",
       "      <td>...</td>\n",
       "      <td>...</td>\n",
       "      <td>...</td>\n",
       "      <td>...</td>\n",
       "      <td>...</td>\n",
       "      <td>...</td>\n",
       "      <td>...</td>\n",
       "    </tr>\n",
       "    <tr>\n",
       "      <th>11014758</th>\n",
       "      <td>1646092799713132910427</td>\n",
       "      <td>9db8ae1d4c7d0a41872ddc45c113de60</td>\n",
       "      <td>2022-02-28</td>\n",
       "      <td>10427</td>\n",
       "      <td>1646092799713</td>\n",
       "      <td>20220228</td>\n",
       "      <td>234854</td>\n",
       "      <td>1678894940000</td>\n",
       "      <td>1329</td>\n",
       "      <td>4c6515356f214aa275e07ddbbd922a5e</td>\n",
       "      <td>...</td>\n",
       "      <td>0.0</td>\n",
       "      <td>0.0</td>\n",
       "      <td>0.0</td>\n",
       "      <td>0.0</td>\n",
       "      <td>0</td>\n",
       "      <td>0</td>\n",
       "      <td>False</td>\n",
       "      <td>42.714298</td>\n",
       "      <td>2022-02-28 23:59:06.752</td>\n",
       "      <td>1970-01-20 10:21:34.940</td>\n",
       "    </tr>\n",
       "    <tr>\n",
       "      <th>11014759</th>\n",
       "      <td>1646092799735151110423</td>\n",
       "      <td>b2ef61d2645e4ec6e5163e1e23637b5c</td>\n",
       "      <td>2022-02-28</td>\n",
       "      <td>10423</td>\n",
       "      <td>1646092799735</td>\n",
       "      <td>20220228</td>\n",
       "      <td>234705</td>\n",
       "      <td>1678894940000</td>\n",
       "      <td>1511</td>\n",
       "      <td>99e314b1b43706773153e7ef375fc68c</td>\n",
       "      <td>...</td>\n",
       "      <td>0.0</td>\n",
       "      <td>0.0</td>\n",
       "      <td>0.0</td>\n",
       "      <td>0.0</td>\n",
       "      <td>0</td>\n",
       "      <td>0</td>\n",
       "      <td>False</td>\n",
       "      <td>72.270938</td>\n",
       "      <td>2022-02-28 23:59:06.752</td>\n",
       "      <td>1970-01-20 10:21:34.940</td>\n",
       "    </tr>\n",
       "    <tr>\n",
       "      <th>11014760</th>\n",
       "      <td>164609279977316910009</td>\n",
       "      <td>cf98c3a85529a6ae179f6f8d942c3d96</td>\n",
       "      <td>2022-02-28</td>\n",
       "      <td>10009</td>\n",
       "      <td>1646092799773</td>\n",
       "      <td>20220228</td>\n",
       "      <td>235835</td>\n",
       "      <td>1678894940000</td>\n",
       "      <td>169</td>\n",
       "      <td>483d8df877b31405c1e8fe4247f02d86</td>\n",
       "      <td>...</td>\n",
       "      <td>0.0</td>\n",
       "      <td>0.0</td>\n",
       "      <td>0.0</td>\n",
       "      <td>0.0</td>\n",
       "      <td>0</td>\n",
       "      <td>0</td>\n",
       "      <td>False</td>\n",
       "      <td>9.600931</td>\n",
       "      <td>2022-02-28 23:59:06.752</td>\n",
       "      <td>1970-01-20 10:21:34.940</td>\n",
       "    </tr>\n",
       "    <tr>\n",
       "      <th>11014761</th>\n",
       "      <td>164609279978769010421</td>\n",
       "      <td>fdb47de2de6f7b0597a9b984f7ee521a</td>\n",
       "      <td>2022-02-28</td>\n",
       "      <td>10421</td>\n",
       "      <td>1646092799787</td>\n",
       "      <td>20220228</td>\n",
       "      <td>235414</td>\n",
       "      <td>1678894940000</td>\n",
       "      <td>690</td>\n",
       "      <td>8493eeaccb772c0878f99d60a0bd2bb3</td>\n",
       "      <td>...</td>\n",
       "      <td>0.0</td>\n",
       "      <td>0.0</td>\n",
       "      <td>0.0</td>\n",
       "      <td>0.0</td>\n",
       "      <td>0</td>\n",
       "      <td>0</td>\n",
       "      <td>False</td>\n",
       "      <td>0.000000</td>\n",
       "      <td>2022-02-28 23:59:06.752</td>\n",
       "      <td>1970-01-20 10:21:34.940</td>\n",
       "    </tr>\n",
       "    <tr>\n",
       "      <th>11014762</th>\n",
       "      <td>1646092799954147010431</td>\n",
       "      <td>641d2534bc769c1cac0be64d6780dd40</td>\n",
       "      <td>2022-02-28</td>\n",
       "      <td>10431</td>\n",
       "      <td>1646092799954</td>\n",
       "      <td>20220228</td>\n",
       "      <td>234744</td>\n",
       "      <td>1678894940000</td>\n",
       "      <td>1470</td>\n",
       "      <td>5cc33dfe7e069a757ca0fcbe6b95c89e</td>\n",
       "      <td>...</td>\n",
       "      <td>0.0</td>\n",
       "      <td>0.0</td>\n",
       "      <td>0.0</td>\n",
       "      <td>0.0</td>\n",
       "      <td>0</td>\n",
       "      <td>0</td>\n",
       "      <td>False</td>\n",
       "      <td>0.000000</td>\n",
       "      <td>2022-02-28 23:59:06.752</td>\n",
       "      <td>1970-01-20 10:21:34.940</td>\n",
       "    </tr>\n",
       "  </tbody>\n",
       "</table>\n",
       "<p>11014763 rows × 44 columns</p>\n",
       "</div>"
      ],
      "text/plain": [
       "                            uuid                         segmentid  \\\n",
       "0            1643674370327110428  82906c5c224aa516c6d93297cb2d5ea6   \n",
       "1            1643674370827210428  82906c5c224aa516c6d93297cb2d5ea6   \n",
       "2            1643674371327310428  82906c5c224aa516c6d93297cb2d5ea6   \n",
       "3            1643674371827410428  82906c5c224aa516c6d93297cb2d5ea6   \n",
       "4            1643674372327510428  82906c5c224aa516c6d93297cb2d5ea6   \n",
       "...                          ...                               ...   \n",
       "11014758  1646092799713132910427  9db8ae1d4c7d0a41872ddc45c113de60   \n",
       "11014759  1646092799735151110423  b2ef61d2645e4ec6e5163e1e23637b5c   \n",
       "11014760   164609279977316910009  cf98c3a85529a6ae179f6f8d942c3d96   \n",
       "11014761   164609279978769010421  fdb47de2de6f7b0597a9b984f7ee521a   \n",
       "11014762  1646092799954147010431  641d2534bc769c1cac0be64d6780dd40   \n",
       "\n",
       "         partitionDate  device      timestamp  filedate  filetimeutc  \\\n",
       "0           2022-02-01   10428  1643674370327  20220201         1249   \n",
       "1           2022-02-01   10428  1643674370827  20220201         1249   \n",
       "2           2022-02-01   10428  1643674371327  20220201         1249   \n",
       "3           2022-02-01   10428  1643674371827  20220201         1249   \n",
       "4           2022-02-01   10428  1643674372327  20220201         1249   \n",
       "...                ...     ...            ...       ...          ...   \n",
       "11014758    2022-02-28   10427  1646092799713  20220228       234854   \n",
       "11014759    2022-02-28   10423  1646092799735  20220228       234705   \n",
       "11014760    2022-02-28   10009  1646092799773  20220228       235835   \n",
       "11014761    2022-02-28   10421  1646092799787  20220228       235414   \n",
       "11014762    2022-02-28   10431  1646092799954  20220228       234744   \n",
       "\n",
       "           updateTimeMs  sequenceNo                               vin  ...  \\\n",
       "0         1678891735000           1  4342309e4ba71c9a7d478ed061abd025  ...   \n",
       "1         1678891735000           2  4342309e4ba71c9a7d478ed061abd025  ...   \n",
       "2         1678891735000           3  4342309e4ba71c9a7d478ed061abd025  ...   \n",
       "3         1678891735000           4  4342309e4ba71c9a7d478ed061abd025  ...   \n",
       "4         1678891735000           5  4342309e4ba71c9a7d478ed061abd025  ...   \n",
       "...                 ...         ...                               ...  ...   \n",
       "11014758  1678894940000        1329  4c6515356f214aa275e07ddbbd922a5e  ...   \n",
       "11014759  1678894940000        1511  99e314b1b43706773153e7ef375fc68c  ...   \n",
       "11014760  1678894940000         169  483d8df877b31405c1e8fe4247f02d86  ...   \n",
       "11014761  1678894940000         690  8493eeaccb772c0878f99d60a0bd2bb3  ...   \n",
       "11014762  1678894940000        1470  5cc33dfe7e069a757ca0fcbe6b95c89e  ...   \n",
       "\n",
       "          headlamp  wiper  stabilitycontrolstatus  absstatus  \\\n",
       "0              0.0    0.0                     0.0        0.0   \n",
       "1              0.0    0.0                     0.0        0.0   \n",
       "2              0.0    0.0                     0.0        0.0   \n",
       "3              0.0    0.0                     0.0        0.0   \n",
       "4              0.0    0.0                     0.0        0.0   \n",
       "...            ...    ...                     ...        ...   \n",
       "11014758       0.0    0.0                     0.0        0.0   \n",
       "11014759       0.0    0.0                     0.0        0.0   \n",
       "11014760       0.0    0.0                     0.0        0.0   \n",
       "11014761       0.0    0.0                     0.0        0.0   \n",
       "11014762       0.0    0.0                     0.0        0.0   \n",
       "\n",
       "          traccontrolstatus  closestintersectid  gpsUncertainFlag   speedMph  \\\n",
       "0                         0                   0             False   0.000000   \n",
       "1                         0                   0             False   0.000000   \n",
       "2                         0                   0             False   0.000000   \n",
       "3                         0                   0             False   0.000000   \n",
       "4                         0                   0             False   0.000000   \n",
       "...                     ...                 ...               ...        ...   \n",
       "11014758                  0                   0             False  42.714298   \n",
       "11014759                  0                   0             False  72.270938   \n",
       "11014760                  0                   0             False   9.600931   \n",
       "11014761                  0                   0             False   0.000000   \n",
       "11014762                  0                   0             False   0.000000   \n",
       "\n",
       "                     timestamp_hr          updateTimeMs_hr  \n",
       "0         2022-02-01 00:12:17.280  1970-01-20 10:21:31.735  \n",
       "1         2022-02-01 00:12:17.280  1970-01-20 10:21:31.735  \n",
       "2         2022-02-01 00:12:17.280  1970-01-20 10:21:31.735  \n",
       "3         2022-02-01 00:12:17.280  1970-01-20 10:21:31.735  \n",
       "4         2022-02-01 00:12:17.280  1970-01-20 10:21:31.735  \n",
       "...                           ...                      ...  \n",
       "11014758  2022-02-28 23:59:06.752  1970-01-20 10:21:34.940  \n",
       "11014759  2022-02-28 23:59:06.752  1970-01-20 10:21:34.940  \n",
       "11014760  2022-02-28 23:59:06.752  1970-01-20 10:21:34.940  \n",
       "11014761  2022-02-28 23:59:06.752  1970-01-20 10:21:34.940  \n",
       "11014762  2022-02-28 23:59:06.752  1970-01-20 10:21:34.940  \n",
       "\n",
       "[11014763 rows x 44 columns]"
      ]
     },
     "execution_count": 24,
     "metadata": {},
     "output_type": "execute_result"
    }
   ],
   "source": [
    "host_dfs_list[0]"
   ]
  },
  {
   "cell_type": "code",
   "execution_count": 25,
   "id": "6e1362d4",
   "metadata": {},
   "outputs": [],
   "source": [
    "host_df_feb = pd.DataFrame(host_dfs_list[0])"
   ]
  },
  {
   "cell_type": "code",
   "execution_count": 26,
   "id": "998c30d5",
   "metadata": {},
   "outputs": [
    {
     "data": {
      "text/html": [
       "<div>\n",
       "<style scoped>\n",
       "    .dataframe tbody tr th:only-of-type {\n",
       "        vertical-align: middle;\n",
       "    }\n",
       "\n",
       "    .dataframe tbody tr th {\n",
       "        vertical-align: top;\n",
       "    }\n",
       "\n",
       "    .dataframe thead th {\n",
       "        text-align: right;\n",
       "    }\n",
       "</style>\n",
       "<table border=\"1\" class=\"dataframe\">\n",
       "  <thead>\n",
       "    <tr style=\"text-align: right;\">\n",
       "      <th></th>\n",
       "      <th>uuid</th>\n",
       "      <th>segmentid</th>\n",
       "      <th>partitionDate</th>\n",
       "      <th>device</th>\n",
       "      <th>timestamp</th>\n",
       "      <th>filedate</th>\n",
       "      <th>filetimeutc</th>\n",
       "      <th>updateTimeMs</th>\n",
       "      <th>sequenceNo</th>\n",
       "      <th>vin</th>\n",
       "      <th>...</th>\n",
       "      <th>headlamp</th>\n",
       "      <th>wiper</th>\n",
       "      <th>stabilitycontrolstatus</th>\n",
       "      <th>absstatus</th>\n",
       "      <th>traccontrolstatus</th>\n",
       "      <th>closestintersectid</th>\n",
       "      <th>gpsUncertainFlag</th>\n",
       "      <th>speedMph</th>\n",
       "      <th>timestamp_hr</th>\n",
       "      <th>updateTimeMs_hr</th>\n",
       "    </tr>\n",
       "  </thead>\n",
       "  <tbody>\n",
       "    <tr>\n",
       "      <th>0</th>\n",
       "      <td>1643674370327110428</td>\n",
       "      <td>82906c5c224aa516c6d93297cb2d5ea6</td>\n",
       "      <td>2022-02-01</td>\n",
       "      <td>10428</td>\n",
       "      <td>1643674370327</td>\n",
       "      <td>20220201</td>\n",
       "      <td>1249</td>\n",
       "      <td>1678891735000</td>\n",
       "      <td>1</td>\n",
       "      <td>4342309e4ba71c9a7d478ed061abd025</td>\n",
       "      <td>...</td>\n",
       "      <td>0.0</td>\n",
       "      <td>0.0</td>\n",
       "      <td>0.0</td>\n",
       "      <td>0.0</td>\n",
       "      <td>0</td>\n",
       "      <td>0</td>\n",
       "      <td>False</td>\n",
       "      <td>0.0</td>\n",
       "      <td>2022-02-01 00:12:17.280</td>\n",
       "      <td>1970-01-20 10:21:31.735</td>\n",
       "    </tr>\n",
       "    <tr>\n",
       "      <th>1</th>\n",
       "      <td>1643674370827210428</td>\n",
       "      <td>82906c5c224aa516c6d93297cb2d5ea6</td>\n",
       "      <td>2022-02-01</td>\n",
       "      <td>10428</td>\n",
       "      <td>1643674370827</td>\n",
       "      <td>20220201</td>\n",
       "      <td>1249</td>\n",
       "      <td>1678891735000</td>\n",
       "      <td>2</td>\n",
       "      <td>4342309e4ba71c9a7d478ed061abd025</td>\n",
       "      <td>...</td>\n",
       "      <td>0.0</td>\n",
       "      <td>0.0</td>\n",
       "      <td>0.0</td>\n",
       "      <td>0.0</td>\n",
       "      <td>0</td>\n",
       "      <td>0</td>\n",
       "      <td>False</td>\n",
       "      <td>0.0</td>\n",
       "      <td>2022-02-01 00:12:17.280</td>\n",
       "      <td>1970-01-20 10:21:31.735</td>\n",
       "    </tr>\n",
       "    <tr>\n",
       "      <th>2</th>\n",
       "      <td>1643674371327310428</td>\n",
       "      <td>82906c5c224aa516c6d93297cb2d5ea6</td>\n",
       "      <td>2022-02-01</td>\n",
       "      <td>10428</td>\n",
       "      <td>1643674371327</td>\n",
       "      <td>20220201</td>\n",
       "      <td>1249</td>\n",
       "      <td>1678891735000</td>\n",
       "      <td>3</td>\n",
       "      <td>4342309e4ba71c9a7d478ed061abd025</td>\n",
       "      <td>...</td>\n",
       "      <td>0.0</td>\n",
       "      <td>0.0</td>\n",
       "      <td>0.0</td>\n",
       "      <td>0.0</td>\n",
       "      <td>0</td>\n",
       "      <td>0</td>\n",
       "      <td>False</td>\n",
       "      <td>0.0</td>\n",
       "      <td>2022-02-01 00:12:17.280</td>\n",
       "      <td>1970-01-20 10:21:31.735</td>\n",
       "    </tr>\n",
       "    <tr>\n",
       "      <th>3</th>\n",
       "      <td>1643674371827410428</td>\n",
       "      <td>82906c5c224aa516c6d93297cb2d5ea6</td>\n",
       "      <td>2022-02-01</td>\n",
       "      <td>10428</td>\n",
       "      <td>1643674371827</td>\n",
       "      <td>20220201</td>\n",
       "      <td>1249</td>\n",
       "      <td>1678891735000</td>\n",
       "      <td>4</td>\n",
       "      <td>4342309e4ba71c9a7d478ed061abd025</td>\n",
       "      <td>...</td>\n",
       "      <td>0.0</td>\n",
       "      <td>0.0</td>\n",
       "      <td>0.0</td>\n",
       "      <td>0.0</td>\n",
       "      <td>0</td>\n",
       "      <td>0</td>\n",
       "      <td>False</td>\n",
       "      <td>0.0</td>\n",
       "      <td>2022-02-01 00:12:17.280</td>\n",
       "      <td>1970-01-20 10:21:31.735</td>\n",
       "    </tr>\n",
       "    <tr>\n",
       "      <th>4</th>\n",
       "      <td>1643674372327510428</td>\n",
       "      <td>82906c5c224aa516c6d93297cb2d5ea6</td>\n",
       "      <td>2022-02-01</td>\n",
       "      <td>10428</td>\n",
       "      <td>1643674372327</td>\n",
       "      <td>20220201</td>\n",
       "      <td>1249</td>\n",
       "      <td>1678891735000</td>\n",
       "      <td>5</td>\n",
       "      <td>4342309e4ba71c9a7d478ed061abd025</td>\n",
       "      <td>...</td>\n",
       "      <td>0.0</td>\n",
       "      <td>0.0</td>\n",
       "      <td>0.0</td>\n",
       "      <td>0.0</td>\n",
       "      <td>0</td>\n",
       "      <td>0</td>\n",
       "      <td>False</td>\n",
       "      <td>0.0</td>\n",
       "      <td>2022-02-01 00:12:17.280</td>\n",
       "      <td>1970-01-20 10:21:31.735</td>\n",
       "    </tr>\n",
       "  </tbody>\n",
       "</table>\n",
       "<p>5 rows × 44 columns</p>\n",
       "</div>"
      ],
      "text/plain": [
       "                  uuid                         segmentid partitionDate  \\\n",
       "0  1643674370327110428  82906c5c224aa516c6d93297cb2d5ea6    2022-02-01   \n",
       "1  1643674370827210428  82906c5c224aa516c6d93297cb2d5ea6    2022-02-01   \n",
       "2  1643674371327310428  82906c5c224aa516c6d93297cb2d5ea6    2022-02-01   \n",
       "3  1643674371827410428  82906c5c224aa516c6d93297cb2d5ea6    2022-02-01   \n",
       "4  1643674372327510428  82906c5c224aa516c6d93297cb2d5ea6    2022-02-01   \n",
       "\n",
       "   device      timestamp  filedate  filetimeutc   updateTimeMs  sequenceNo  \\\n",
       "0   10428  1643674370327  20220201         1249  1678891735000           1   \n",
       "1   10428  1643674370827  20220201         1249  1678891735000           2   \n",
       "2   10428  1643674371327  20220201         1249  1678891735000           3   \n",
       "3   10428  1643674371827  20220201         1249  1678891735000           4   \n",
       "4   10428  1643674372327  20220201         1249  1678891735000           5   \n",
       "\n",
       "                                vin  ...  headlamp  wiper  \\\n",
       "0  4342309e4ba71c9a7d478ed061abd025  ...       0.0    0.0   \n",
       "1  4342309e4ba71c9a7d478ed061abd025  ...       0.0    0.0   \n",
       "2  4342309e4ba71c9a7d478ed061abd025  ...       0.0    0.0   \n",
       "3  4342309e4ba71c9a7d478ed061abd025  ...       0.0    0.0   \n",
       "4  4342309e4ba71c9a7d478ed061abd025  ...       0.0    0.0   \n",
       "\n",
       "   stabilitycontrolstatus  absstatus  traccontrolstatus  closestintersectid  \\\n",
       "0                     0.0        0.0                  0                   0   \n",
       "1                     0.0        0.0                  0                   0   \n",
       "2                     0.0        0.0                  0                   0   \n",
       "3                     0.0        0.0                  0                   0   \n",
       "4                     0.0        0.0                  0                   0   \n",
       "\n",
       "   gpsUncertainFlag  speedMph             timestamp_hr  \\\n",
       "0             False       0.0  2022-02-01 00:12:17.280   \n",
       "1             False       0.0  2022-02-01 00:12:17.280   \n",
       "2             False       0.0  2022-02-01 00:12:17.280   \n",
       "3             False       0.0  2022-02-01 00:12:17.280   \n",
       "4             False       0.0  2022-02-01 00:12:17.280   \n",
       "\n",
       "           updateTimeMs_hr  \n",
       "0  1970-01-20 10:21:31.735  \n",
       "1  1970-01-20 10:21:31.735  \n",
       "2  1970-01-20 10:21:31.735  \n",
       "3  1970-01-20 10:21:31.735  \n",
       "4  1970-01-20 10:21:31.735  \n",
       "\n",
       "[5 rows x 44 columns]"
      ]
     },
     "execution_count": 26,
     "metadata": {},
     "output_type": "execute_result"
    }
   ],
   "source": [
    "host_df_feb.head()"
   ]
  },
  {
   "cell_type": "code",
   "execution_count": 27,
   "id": "a0ead181",
   "metadata": {},
   "outputs": [
    {
     "name": "stdout",
     "output_type": "stream",
     "text": [
      "<class 'pandas.core.frame.DataFrame'>\n",
      "RangeIndex: 11014763 entries, 0 to 11014762\n",
      "Data columns (total 44 columns):\n",
      " #   Column                  Dtype  \n",
      "---  ------                  -----  \n",
      " 0   uuid                    object \n",
      " 1   segmentid               object \n",
      " 2   partitionDate           object \n",
      " 3   device                  int64  \n",
      " 4   timestamp               int64  \n",
      " 5   filedate                int64  \n",
      " 6   filetimeutc             int64  \n",
      " 7   updateTimeMs            int64  \n",
      " 8   sequenceNo              int64  \n",
      " 9   vin                     object \n",
      " 10  tripId                  int64  \n",
      " 11  localTimeMs             int64  \n",
      " 12  latitude                float64\n",
      " 13  longitude               float64\n",
      " 14  elevation               float64\n",
      " 15  heading                 float64\n",
      " 16  gpsspeed                float64\n",
      " 17  fixtypehvgps            float64\n",
      " 18  gpssemimajaxis          float64\n",
      " 19  gpssemiminaxis          float64\n",
      " 20  gpsorientsemimaj        float64\n",
      " 21  brakestatus             float64\n",
      " 22  transstate              float64\n",
      " 23  gpsUncertaintyArea      float64\n",
      " 24  gpsspeedMph             float64\n",
      " 25  elevationFt             float64\n",
      " 26  gpssemimajaxisFt        float64\n",
      " 27  gpssemiminaxisFt        float64\n",
      " 28  speed                   float64\n",
      " 29  yawrate                 float64\n",
      " 30  longaccel               float64\n",
      " 31  throttlepospct          float64\n",
      " 32  steerangle              float64\n",
      " 33  turnsignal              float64\n",
      " 34  headlamp                float64\n",
      " 35  wiper                   float64\n",
      " 36  stabilitycontrolstatus  float64\n",
      " 37  absstatus               float64\n",
      " 38  traccontrolstatus       int64  \n",
      " 39  closestintersectid      int64  \n",
      " 40  gpsUncertainFlag        bool   \n",
      " 41  speedMph                float64\n",
      " 42  timestamp_hr            object \n",
      " 43  updateTimeMs_hr         object \n",
      "dtypes: bool(1), float64(27), int64(10), object(6)\n",
      "memory usage: 3.5+ GB\n"
     ]
    }
   ],
   "source": [
    "host_df_feb.info()"
   ]
  },
  {
   "cell_type": "code",
   "execution_count": 28,
   "id": "c276971d",
   "metadata": {},
   "outputs": [
    {
     "data": {
      "text/plain": [
       "uuid                                   1643674370327110428\n",
       "segmentid                 82906c5c224aa516c6d93297cb2d5ea6\n",
       "partitionDate                                   2022-02-01\n",
       "device                                               10428\n",
       "timestamp                                    1643674370327\n",
       "filedate                                          20220201\n",
       "filetimeutc                                           1249\n",
       "updateTimeMs                                 1678891735000\n",
       "sequenceNo                                               1\n",
       "vin                       4342309e4ba71c9a7d478ed061abd025\n",
       "tripId                                   10428202202011249\n",
       "localTimeMs                                         770327\n",
       "latitude                                         27.994724\n",
       "longitude                                       -82.467935\n",
       "elevation                                          -20.137\n",
       "heading                                           84.50086\n",
       "gpsspeed                                             0.018\n",
       "fixtypehvgps                                           1.0\n",
       "gpssemimajaxis                                         2.3\n",
       "gpssemiminaxis                                         2.1\n",
       "gpsorientsemimaj                                     158.0\n",
       "brakestatus                                            1.0\n",
       "transstate                                             2.0\n",
       "gpsUncertaintyArea                               15.173893\n",
       "gpsspeedMph                                       0.040265\n",
       "elevationFt                                     -66.066273\n",
       "gpssemimajaxisFt                                  7.545932\n",
       "gpssemiminaxisFt                                  6.889764\n",
       "speed                                                  0.0\n",
       "yawrate                                                0.0\n",
       "longaccel                                              0.0\n",
       "throttlepospct                                         0.0\n",
       "steerangle                                             0.0\n",
       "turnsignal                                             0.0\n",
       "headlamp                                               0.0\n",
       "wiper                                                  0.0\n",
       "stabilitycontrolstatus                                 0.0\n",
       "absstatus                                              0.0\n",
       "traccontrolstatus                                        0\n",
       "closestintersectid                                       0\n",
       "gpsUncertainFlag                                     False\n",
       "speedMph                                               0.0\n",
       "timestamp_hr                       2022-02-01 00:12:17.280\n",
       "updateTimeMs_hr                    1970-01-20 10:21:31.735\n",
       "Name: 0, dtype: object"
      ]
     },
     "execution_count": 28,
     "metadata": {},
     "output_type": "execute_result"
    }
   ],
   "source": [
    "host_df_feb.loc[0,:]"
   ]
  },
  {
   "cell_type": "code",
   "execution_count": 29,
   "id": "276a3985",
   "metadata": {},
   "outputs": [],
   "source": [
    "# few important columns that needs to be considered are \n",
    "\n",
    "# throttlepospct, elevation, brakestatus, transstate, yawrate, steerangle, turnsignal, speedMph"
   ]
  },
  {
   "cell_type": "code",
   "execution_count": 30,
   "id": "5c1179da",
   "metadata": {},
   "outputs": [
    {
     "data": {
      "text/plain": [
       "Text(0.5, 1.0, 'Distribution of throttle position values')"
      ]
     },
     "execution_count": 30,
     "metadata": {},
     "output_type": "execute_result"
    },
    {
     "data": {
      "image/png": "[encoded data removed]",
      "text/plain": [
       "<Figure size 640x480 with 1 Axes>"
      ]
     },
     "metadata": {},
     "output_type": "display_data"
    }
   ],
   "source": [
    "# Throttle position - when you press the gas pedal halfway down, you're increasing the throttle position by 50% \n",
    "\n",
    "sns.histplot(host_df_feb[['throttlepospct']], kde = True)\n",
    "\n",
    "plt.title('Distribution of throttle position values')\n"
   ]
  },
  {
   "cell_type": "code",
   "execution_count": 31,
   "id": "c3d614f5",
   "metadata": {},
   "outputs": [
    {
     "data": {
      "text/plain": [
       "0.0     9988511\n",
       "2.0      103896\n",
       "4.0       65822\n",
       "3.0       62255\n",
       "1.0       50198\n",
       "         ...   \n",
       "69.0         27\n",
       "78.0         26\n",
       "75.0         26\n",
       "79.0         24\n",
       "71.0         18\n",
       "Name: throttlepospct, Length: 84, dtype: int64"
      ]
     },
     "execution_count": 31,
     "metadata": {},
     "output_type": "execute_result"
    }
   ],
   "source": [
    "host_df_feb['throttlepospct'].value_counts()"
   ]
  },
  {
   "cell_type": "code",
   "execution_count": 32,
   "id": "4869a854",
   "metadata": {},
   "outputs": [
    {
     "data": {
      "text/plain": [
       "count    1.077065e+07\n",
       "mean     8.518260e-01\n",
       "std      4.370090e+00\n",
       "min      0.000000e+00\n",
       "25%      0.000000e+00\n",
       "50%      0.000000e+00\n",
       "75%      0.000000e+00\n",
       "max      8.300000e+01\n",
       "Name: throttlepospct, dtype: float64"
      ]
     },
     "execution_count": 32,
     "metadata": {},
     "output_type": "execute_result"
    }
   ],
   "source": [
    "host_df_feb['throttlepospct'].describe()"
   ]
  },
  {
   "cell_type": "code",
   "execution_count": 33,
   "id": "1c2d061d",
   "metadata": {},
   "outputs": [
    {
     "data": {
      "text/plain": [
       " 1000.000    231955\n",
       " 251.717      20224\n",
       "-14.260        9703\n",
       "-16.222        9696\n",
       "-7.833         9148\n",
       "              ...  \n",
       " 319.638          1\n",
       " 289.367          1\n",
       " 319.655          1\n",
       " 289.312          1\n",
       "-35.820           1\n",
       "Name: elevation, Length: 190799, dtype: int64"
      ]
     },
     "execution_count": 33,
     "metadata": {},
     "output_type": "execute_result"
    }
   ],
   "source": [
    "# elevation - It expalins the load on the engine - Higher elevation, car needs extra effort\n",
    "\n",
    "host_df_feb['elevation'].value_counts()"
   ]
  },
  {
   "cell_type": "code",
   "execution_count": 34,
   "id": "5b60d8c3",
   "metadata": {},
   "outputs": [
    {
     "data": {
      "text/plain": [
       "count    1.101476e+07\n",
       "mean     5.662870e+01\n",
       "std      1.749313e+02\n",
       "min     -1.382070e+02\n",
       "25%     -1.859000e+01\n",
       "50%     -1.364900e+01\n",
       "75%     -2.502000e+00\n",
       "max      1.000000e+03\n",
       "Name: elevation, dtype: float64"
      ]
     },
     "execution_count": 34,
     "metadata": {},
     "output_type": "execute_result"
    }
   ],
   "source": [
    "host_df_feb['elevation'].describe()"
   ]
  },
  {
   "cell_type": "code",
   "execution_count": 35,
   "id": "feb4d4c2",
   "metadata": {},
   "outputs": [
    {
     "data": {
      "text/plain": [
       "Text(0.5, 1.0, 'Histogram of elevation values')"
      ]
     },
     "execution_count": 35,
     "metadata": {},
     "output_type": "execute_result"
    },
    {
     "data": {
      "image/png": "[encoded data removed]",
      "text/plain": [
       "<Figure size 640x480 with 1 Axes>"
      ]
     },
     "metadata": {},
     "output_type": "display_data"
    }
   ],
   "source": [
    "sns.histplot(host_df_feb[['elevation']], kde = True)\n",
    "\n",
    "plt.title('Histogram of elevation values')\n",
    "\n",
    "# There is also a column elevation in Ft, let's consider elevation for now\n"
   ]
  },
  {
   "cell_type": "code",
   "execution_count": 36,
   "id": "feafffe5",
   "metadata": {},
   "outputs": [
    {
     "data": {
      "text/html": [
       "<div>\n",
       "<style scoped>\n",
       "    .dataframe tbody tr th:only-of-type {\n",
       "        vertical-align: middle;\n",
       "    }\n",
       "\n",
       "    .dataframe tbody tr th {\n",
       "        vertical-align: top;\n",
       "    }\n",
       "\n",
       "    .dataframe thead th {\n",
       "        text-align: right;\n",
       "    }\n",
       "</style>\n",
       "<table border=\"1\" class=\"dataframe\">\n",
       "  <thead>\n",
       "    <tr style=\"text-align: right;\">\n",
       "      <th></th>\n",
       "      <th>elevation</th>\n",
       "      <th>throttlepospct</th>\n",
       "    </tr>\n",
       "  </thead>\n",
       "  <tbody>\n",
       "    <tr>\n",
       "      <th>elevation</th>\n",
       "      <td>1.000000</td>\n",
       "      <td>0.384221</td>\n",
       "    </tr>\n",
       "    <tr>\n",
       "      <th>throttlepospct</th>\n",
       "      <td>0.384221</td>\n",
       "      <td>1.000000</td>\n",
       "    </tr>\n",
       "  </tbody>\n",
       "</table>\n",
       "</div>"
      ],
      "text/plain": [
       "                elevation  throttlepospct\n",
       "elevation        1.000000        0.384221\n",
       "throttlepospct   0.384221        1.000000"
      ]
     },
     "execution_count": 36,
     "metadata": {},
     "output_type": "execute_result"
    }
   ],
   "source": [
    "## Is there any relation between throttlepospct and elevation values?\n",
    "\n",
    "host_df_feb[['elevation', 'throttlepospct']].corr()\n",
    "\n",
    "# scatter plot of the two columns was not informative"
   ]
  },
  {
   "cell_type": "code",
   "execution_count": 37,
   "id": "2e37a6e8",
   "metadata": {},
   "outputs": [
    {
     "data": {
      "text/plain": [
       "0.0    7217412\n",
       "1.0    3553240\n",
       "Name: brakestatus, dtype: int64"
      ]
     },
     "execution_count": 37,
     "metadata": {},
     "output_type": "execute_result"
    }
   ],
   "source": [
    "# brake status - whether the driver pressed the brake or not - this column seems to be not so useful\n",
    "\n",
    "host_df_feb['brakestatus'].value_counts()"
   ]
  },
  {
   "cell_type": "code",
   "execution_count": 38,
   "id": "1142f724",
   "metadata": {},
   "outputs": [
    {
     "data": {
      "text/plain": [
       "Text(0.5, 1.0, 'Break Usage')"
      ]
     },
     "execution_count": 38,
     "metadata": {},
     "output_type": "execute_result"
    },
    {
     "data": {
      "image/png": "[encoded data removed]",
      "text/plain": [
       "<Figure size 640x480 with 1 Axes>"
      ]
     },
     "metadata": {},
     "output_type": "display_data"
    }
   ],
   "source": [
    "sns.histplot(host_df_feb[['brakestatus']])\n",
    "\n",
    "plt.title('Break Usage')"
   ]
  },
  {
   "cell_type": "code",
   "execution_count": 39,
   "id": "bc4499cd",
   "metadata": {},
   "outputs": [
    {
     "data": {
      "text/plain": [
       "2.0    10770652\n",
       "Name: transstate, dtype: int64"
      ]
     },
     "execution_count": 39,
     "metadata": {},
     "output_type": "execute_result"
    }
   ],
   "source": [
    "# transstate - current Gear position\n",
    "\n",
    "host_df_feb['transstate'].value_counts()\n",
    "\n",
    "# no use of this column - we could drop it later on"
   ]
  },
  {
   "cell_type": "code",
   "execution_count": 40,
   "id": "f33d1623",
   "metadata": {},
   "outputs": [
    {
     "data": {
      "text/plain": [
       "count    1.077065e+07\n",
       "mean     1.646134e-02\n",
       "std      8.721109e+00\n",
       "min     -1.579636e+03\n",
       "25%     -1.726530e-01\n",
       "50%      0.000000e+00\n",
       "75%      2.227374e-01\n",
       "max      1.505285e+03\n",
       "Name: yawrate, dtype: float64"
      ]
     },
     "execution_count": 40,
     "metadata": {},
     "output_type": "execute_result"
    }
   ],
   "source": [
    "# yawrate - more or less describe's the car condition especially in cases of turnings, change in directions\n",
    "\n",
    "# Higher yaw rates during turns indicate that the vehicle is responding to the driver's steering inputs and \n",
    "# negotiating the turn effectively \n",
    "\n",
    "host_df_feb['yawrate'].describe()\n",
    "\n",
    "# unable to draw the plot for this column - taking too much of time"
   ]
  },
  {
   "cell_type": "code",
   "execution_count": 41,
   "id": "e80243ae",
   "metadata": {},
   "outputs": [
    {
     "data": {
      "text/plain": [
       "count    1.077065e+07\n",
       "mean     5.242979e-02\n",
       "std      2.590184e+01\n",
       "min     -5.943000e+02\n",
       "25%      0.000000e+00\n",
       "50%      0.000000e+00\n",
       "75%      0.000000e+00\n",
       "max      5.952000e+02\n",
       "Name: steerangle, dtype: float64"
      ]
     },
     "execution_count": 41,
     "metadata": {},
     "output_type": "execute_result"
    }
   ],
   "source": [
    "# steering angle - in between -/+ 595 degrees\n",
    "\n",
    "host_df_feb['steerangle'].describe()\n"
   ]
  },
  {
   "cell_type": "code",
   "execution_count": 42,
   "id": "0316b03f",
   "metadata": {},
   "outputs": [
    {
     "data": {
      "text/plain": [
       "Text(0.5, 1.0, 'Looking at the distribution of steering angles')"
      ]
     },
     "execution_count": 42,
     "metadata": {},
     "output_type": "execute_result"
    },
    {
     "data": {
      "image/png": "[encoded data removed]",
      "text/plain": [
       "<Figure size 640x480 with 1 Axes>"
      ]
     },
     "metadata": {},
     "output_type": "display_data"
    }
   ],
   "source": [
    "sns.histplot(host_df_feb[['steerangle']], kde = True)\n",
    "\n",
    "plt.title('Looking at the distribution of steering angles')\n"
   ]
  },
  {
   "cell_type": "code",
   "execution_count": 43,
   "id": "b2b28fba",
   "metadata": {},
   "outputs": [
    {
     "data": {
      "text/plain": [
       " 0.00000      9238470\n",
       " 0.30000        31958\n",
       "-0.30000        28802\n",
       " 0.10000        25801\n",
       " 0.70000        25673\n",
       "               ...   \n",
       "-472.90000          1\n",
       "-566.60004          1\n",
       "-483.20000          1\n",
       "-483.10000          1\n",
       " 484.90000          1\n",
       "Name: steerangle, Length: 9930, dtype: int64"
      ]
     },
     "execution_count": 43,
     "metadata": {},
     "output_type": "execute_result"
    }
   ],
   "source": [
    "host_df_feb['steerangle'].value_counts()"
   ]
  },
  {
   "cell_type": "code",
   "execution_count": 44,
   "id": "6f52fa0c",
   "metadata": {},
   "outputs": [
    {
     "data": {
      "text/html": [
       "<div>\n",
       "<style scoped>\n",
       "    .dataframe tbody tr th:only-of-type {\n",
       "        vertical-align: middle;\n",
       "    }\n",
       "\n",
       "    .dataframe tbody tr th {\n",
       "        vertical-align: top;\n",
       "    }\n",
       "\n",
       "    .dataframe thead th {\n",
       "        text-align: right;\n",
       "    }\n",
       "</style>\n",
       "<table border=\"1\" class=\"dataframe\">\n",
       "  <thead>\n",
       "    <tr style=\"text-align: right;\">\n",
       "      <th></th>\n",
       "      <th>steerangle</th>\n",
       "      <th>yawrate</th>\n",
       "    </tr>\n",
       "  </thead>\n",
       "  <tbody>\n",
       "    <tr>\n",
       "      <th>steerangle</th>\n",
       "      <td>1.000000</td>\n",
       "      <td>0.087003</td>\n",
       "    </tr>\n",
       "    <tr>\n",
       "      <th>yawrate</th>\n",
       "      <td>0.087003</td>\n",
       "      <td>1.000000</td>\n",
       "    </tr>\n",
       "  </tbody>\n",
       "</table>\n",
       "</div>"
      ],
      "text/plain": [
       "            steerangle   yawrate\n",
       "steerangle    1.000000  0.087003\n",
       "yawrate       0.087003  1.000000"
      ]
     },
     "execution_count": 44,
     "metadata": {},
     "output_type": "execute_result"
    }
   ],
   "source": [
    "## Is there any relation between steerangle and yawrate values?\n",
    "\n",
    "host_df_feb[['steerangle', 'yawrate']].corr() \n",
    "\n",
    "# It seems that not much correlation is there \n"
   ]
  },
  {
   "cell_type": "code",
   "execution_count": 45,
   "id": "c84a1d73",
   "metadata": {},
   "outputs": [
    {
     "data": {
      "text/plain": [
       "<Axes: xlabel='steerangle', ylabel='yawrate'>"
      ]
     },
     "execution_count": 45,
     "metadata": {},
     "output_type": "execute_result"
    },
    {
     "data": {
      "image/png": "[encoded data removed]",
      "text/plain": [
       "<Figure size 640x480 with 1 Axes>"
      ]
     },
     "metadata": {},
     "output_type": "display_data"
    }
   ],
   "source": [
    "sns.scatterplot(data = host_df_feb, x = 'steerangle', y = 'yawrate')\n",
    "\n",
    "# Theoretically, yawrates are supposed to be higher on turnings but that's not the case - why? "
   ]
  },
  {
   "cell_type": "code",
   "execution_count": 46,
   "id": "6f0ad188",
   "metadata": {},
   "outputs": [
    {
     "data": {
      "text/plain": [
       "0.0    10606422\n",
       "1.0       94740\n",
       "2.0       69490\n",
       "Name: turnsignal, dtype: int64"
      ]
     },
     "execution_count": 46,
     "metadata": {},
     "output_type": "execute_result"
    }
   ],
   "source": [
    "# turnsignal - if the turn indicator is on or not - 1 (left), 2(right)\n",
    "\n",
    "host_df_feb['turnsignal'].value_counts()"
   ]
  },
  {
   "cell_type": "code",
   "execution_count": 47,
   "id": "44bdc011",
   "metadata": {},
   "outputs": [
    {
     "data": {
      "text/plain": [
       "count    1.101476e+07\n",
       "mean     7.697459e+01\n",
       "std      3.262525e+02\n",
       "min      0.000000e+00\n",
       "25%      0.000000e+00\n",
       "50%      2.425286e+01\n",
       "75%      5.054134e+01\n",
       "max      2.236936e+03\n",
       "Name: speedMph, dtype: float64"
      ]
     },
     "execution_count": 47,
     "metadata": {},
     "output_type": "execute_result"
    }
   ],
   "source": [
    "# speedMph\n",
    "\n",
    "host_df_feb['speedMph'].describe()\n",
    "\n",
    "# This column seems to be having lots of incorrect values - same as 'gpsspeedMph' column\n",
    "\n",
    "# max value of speed is 2236"
   ]
  },
  {
   "cell_type": "code",
   "execution_count": 48,
   "id": "75ea606a",
   "metadata": {},
   "outputs": [
    {
     "data": {
      "text/plain": [
       "count    1.078281e+07\n",
       "mean     1.253743e+01\n",
       "std      1.197087e+01\n",
       "min      0.000000e+00\n",
       "25%      3.700000e-02\n",
       "50%      1.028500e+01\n",
       "75%      2.163300e+01\n",
       "max      4.990015e+01\n",
       "Name: gpsspeed, dtype: float64"
      ]
     },
     "execution_count": 48,
     "metadata": {},
     "output_type": "execute_result"
    }
   ],
   "source": [
    "host_df_feb['gpsspeed'].describe()\n",
    "\n",
    "# This one looks correct - but not sure of the dimensions "
   ]
  },
  {
   "cell_type": "code",
   "execution_count": null,
   "id": "6a7bfb23",
   "metadata": {},
   "outputs": [],
   "source": []
  },
  {
   "cell_type": "markdown",
   "id": "1c6b5980",
   "metadata": {},
   "source": [
    "# Future work\n"
   ]
  },
  {
   "cell_type": "code",
   "execution_count": 49,
   "id": "ec344989",
   "metadata": {},
   "outputs": [],
   "source": [
    "# for each trip - might draw some time series visualizations and then look at how different columns are "
   ]
  },
  {
   "cell_type": "code",
   "execution_count": 50,
   "id": "1b65b618",
   "metadata": {},
   "outputs": [],
   "source": [
    "# feature engineering"
   ]
  },
  {
   "cell_type": "code",
   "execution_count": 51,
   "id": "fde78a94",
   "metadata": {},
   "outputs": [],
   "source": [
    "# spat table? "
   ]
  },
  {
   "cell_type": "code",
   "execution_count": null,
   "id": "a6740854",
   "metadata": {},
   "outputs": [],
   "source": []
  }
 ],
 "metadata": {
  "kernelspec": {
   "display_name": "Python 3 (ipykernel)",
   "language": "python",
   "name": "python3"
  },
  "language_info": {
   "codemirror_mode": {
    "name": "ipython",
    "version": 3
   },
   "file_extension": ".py",
   "mimetype": "text/x-python",
   "name": "python",
   "nbconvert_exporter": "python",
   "pygments_lexer": "ipython3",
   "version": "3.11.5"
  }
 },
 "nbformat": 4,
 "nbformat_minor": 5
}
